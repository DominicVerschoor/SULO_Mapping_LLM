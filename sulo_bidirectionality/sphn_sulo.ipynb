{
 "cells": [
  {
   "cell_type": "code",
   "execution_count": 1,
   "metadata": {
    "colab": {
     "base_uri": "https://localhost:8080/"
    },
    "id": "MzcGyHBceW_w",
    "outputId": "7b5e3ae0-39d0-41bc-85b6-b5555d1c82c5"
   },
   "outputs": [
    {
     "name": "stdout",
     "output_type": "stream",
     "text": [
      "Requirement already satisfied: rdflib in c:\\users\\agavr\\appdata\\local\\programs\\python\\python310\\lib\\site-packages (7.1.3)\n",
      "Requirement already satisfied: isodate<1.0.0,>=0.7.2 in c:\\users\\agavr\\appdata\\local\\programs\\python\\python310\\lib\\site-packages (from rdflib) (0.7.2)\n",
      "Requirement already satisfied: pyparsing<4,>=2.1.0 in c:\\users\\agavr\\appdata\\local\\programs\\python\\python310\\lib\\site-packages (from rdflib) (3.0.9)\n",
      "Note: you may need to restart the kernel to use updated packages.\n"
     ]
    },
    {
     "name": "stderr",
     "output_type": "stream",
     "text": [
      "WARNING: Ignoring invalid distribution -gl (c:\\users\\agavr\\appdata\\local\\programs\\python\\python310\\lib\\site-packages)\n",
      "WARNING: Ignoring invalid distribution -orch (c:\\users\\agavr\\appdata\\local\\programs\\python\\python310\\lib\\site-packages)\n",
      "WARNING: Ignoring invalid distribution -gl (c:\\users\\agavr\\appdata\\local\\programs\\python\\python310\\lib\\site-packages)\n",
      "WARNING: Ignoring invalid distribution -orch (c:\\users\\agavr\\appdata\\local\\programs\\python\\python310\\lib\\site-packages)\n",
      "WARNING: Ignoring invalid distribution -gl (c:\\users\\agavr\\appdata\\local\\programs\\python\\python310\\lib\\site-packages)\n",
      "WARNING: Ignoring invalid distribution -orch (c:\\users\\agavr\\appdata\\local\\programs\\python\\python310\\lib\\site-packages)\n",
      "\n",
      "[notice] A new release of pip is available: 25.0.1 -> 25.1.1\n",
      "[notice] To update, run: python.exe -m pip install --upgrade pip\n"
     ]
    },
    {
     "name": "stdout",
     "output_type": "stream",
     "text": [
      "Requirement already satisfied: owlrl in c:\\users\\agavr\\appdata\\local\\programs\\python\\python310\\lib\\site-packages (7.1.3)\n",
      "Requirement already satisfied: rdflib>=7.1.3 in c:\\users\\agavr\\appdata\\local\\programs\\python\\python310\\lib\\site-packages (from owlrl) (7.1.3)\n",
      "Requirement already satisfied: isodate<1.0.0,>=0.7.2 in c:\\users\\agavr\\appdata\\local\\programs\\python\\python310\\lib\\site-packages (from rdflib>=7.1.3->owlrl) (0.7.2)\n",
      "Requirement already satisfied: pyparsing<4,>=2.1.0 in c:\\users\\agavr\\appdata\\local\\programs\\python\\python310\\lib\\site-packages (from rdflib>=7.1.3->owlrl) (3.0.9)\n",
      "Note: you may need to restart the kernel to use updated packages.\n"
     ]
    },
    {
     "name": "stderr",
     "output_type": "stream",
     "text": [
      "WARNING: Ignoring invalid distribution -gl (c:\\users\\agavr\\appdata\\local\\programs\\python\\python310\\lib\\site-packages)\n",
      "WARNING: Ignoring invalid distribution -orch (c:\\users\\agavr\\appdata\\local\\programs\\python\\python310\\lib\\site-packages)\n",
      "WARNING: Ignoring invalid distribution -gl (c:\\users\\agavr\\appdata\\local\\programs\\python\\python310\\lib\\site-packages)\n",
      "WARNING: Ignoring invalid distribution -orch (c:\\users\\agavr\\appdata\\local\\programs\\python\\python310\\lib\\site-packages)\n",
      "WARNING: Ignoring invalid distribution -gl (c:\\users\\agavr\\appdata\\local\\programs\\python\\python310\\lib\\site-packages)\n",
      "WARNING: Ignoring invalid distribution -orch (c:\\users\\agavr\\appdata\\local\\programs\\python\\python310\\lib\\site-packages)\n",
      "\n",
      "[notice] A new release of pip is available: 25.0.1 -> 25.1.1\n",
      "[notice] To update, run: python.exe -m pip install --upgrade pip\n",
      "WARNING: Ignoring invalid distribution -gl (c:\\users\\agavr\\appdata\\local\\programs\\python\\python310\\lib\\site-packages)\n",
      "WARNING: Ignoring invalid distribution -orch (c:\\users\\agavr\\appdata\\local\\programs\\python\\python310\\lib\\site-packages)\n",
      "WARNING: Ignoring invalid distribution -gl (c:\\users\\agavr\\appdata\\local\\programs\\python\\python310\\lib\\site-packages)\n",
      "WARNING: Ignoring invalid distribution -orch (c:\\users\\agavr\\appdata\\local\\programs\\python\\python310\\lib\\site-packages)\n",
      "WARNING: Ignoring invalid distribution -gl (c:\\users\\agavr\\appdata\\local\\programs\\python\\python310\\lib\\site-packages)\n",
      "WARNING: Ignoring invalid distribution -orch (c:\\users\\agavr\\appdata\\local\\programs\\python\\python310\\lib\\site-packages)\n",
      "\n",
      "[notice] A new release of pip is available: 25.0.1 -> 25.1.1\n",
      "[notice] To update, run: python.exe -m pip install --upgrade pip\n"
     ]
    },
    {
     "name": "stdout",
     "output_type": "stream",
     "text": [
      "Note: you may need to restart the kernel to use updated packages.Requirement already satisfied: pandas in c:\\users\\agavr\\appdata\\local\\programs\\python\\python310\\lib\\site-packages (1.5.1)\n",
      "Requirement already satisfied: python-dateutil>=2.8.1 in c:\\users\\agavr\\appdata\\local\\programs\\python\\python310\\lib\\site-packages (from pandas) (2.8.2)\n",
      "Requirement already satisfied: pytz>=2020.1 in c:\\users\\agavr\\appdata\\local\\programs\\python\\python310\\lib\\site-packages (from pandas) (2021.3)\n",
      "Requirement already satisfied: numpy>=1.21.0 in c:\\users\\agavr\\appdata\\local\\programs\\python\\python310\\lib\\site-packages (from pandas) (1.26.4)\n",
      "Requirement already satisfied: six>=1.5 in c:\\users\\agavr\\appdata\\local\\programs\\python\\python310\\lib\\site-packages (from python-dateutil>=2.8.1->pandas) (1.16.0)\n",
      "\n"
     ]
    }
   ],
   "source": [
    "%pip install rdflib\n",
    "%pip install owlrl\n",
    "%pip install pandas\n",
    "from rdflib import Graph, Namespace\n",
    "import pandas as pd"
   ]
  },
  {
   "cell_type": "code",
   "execution_count": 2,
   "metadata": {
    "colab": {
     "base_uri": "https://localhost:8080/"
    },
    "id": "VXwt-qXBeW_z",
    "outputId": "957719b6-9af5-418e-bfd2-136d5442655e"
   },
   "outputs": [
    {
     "name": "stdout",
     "output_type": "stream",
     "text": [
      "24 Triples\n"
     ]
    }
   ],
   "source": [
    "# Define namespaces\n",
    "sphn = Namespace(\"https://biomedit.ch/rdf/sphn-ontology/sphn#\")\n",
    "sulo = Namespace(\"https://w3id.org/sulo/\")\n",
    "snomed = Namespace(\"http://snomed.info/id/\")\n",
    "aidava = Namespace(\"https://rdf.aidava.eu/resource/\")\n",
    "\n",
    "# Load SPHN RDF file\n",
    "g = Graph()\n",
    "g.parse(\"sphn_administrative_case.ttl\", format=\"turtle\")\n",
    "g.bind(\"sphn\", sphn)\n",
    "g.bind(\"sulo\", sulo)\n",
    "g.bind(\"snomed\", snomed)\n",
    "g.bind(\"aidava\", aidava)\n",
    "print(f\"{len(g)} Triples\")"
   ]
  },
  {
   "cell_type": "code",
   "execution_count": 3,
   "metadata": {
    "colab": {
     "base_uri": "https://localhost:8080/"
    },
    "id": "u-UFw8-796sy",
    "outputId": "25bfd528-3718-4e15-f41f-712cd91d748f"
   },
   "outputs": [
    {
     "data": {
      "text/plain": [
       "<Graph identifier=N58fd3f374cd84c3d87267a68f6ce9616 (<class 'rdflib.graph.Graph'>)>"
      ]
     },
     "execution_count": 3,
     "metadata": {},
     "output_type": "execute_result"
    }
   ],
   "source": [
    "# Create a new graph for transformed data\n",
    "# Define SPARQL transformation query\n",
    "# This graph contains blank node structures that miss specific variable bindings\n",
    "\n",
    "transformation_query = \"\"\"\n",
    "PREFIX sphn: <https://biomedit.ch/rdf/sphn-ontology/sphn#>\n",
    "PREFIX sulo: <https://w3id.org/sulo/>\n",
    "PREFIX xsd: <http://www.w3.org/2001/XMLSchema#>\n",
    "PREFIX snomed: <http://snomed.info/id/>\n",
    "PREFIX : <https://rdf.aidava.eu/resource/>\n",
    "\n",
    "CONSTRUCT {\n",
    "  ?case a sphn:AdministrativeCase .\n",
    "  ?case sulo:hasPart [ a snomed:305056002;  sulo:isLocatedIn ?originLocation ;sulo:occursIn [ a sulo:Time; sulo:hasValue ?admissionDateTime ] ].\n",
    "  ?case sulo:hasPart [ a snomed:58000006;  sulo:isLocatedIn ?dischargeLocation ; sulo:occursIn [ a sulo:Time; sulo:hasValue ?dischargeDateTime ] ].\n",
    "  ?case sulo:isLocatedIn ?location.\n",
    "  ?case sulo:hasParticipant [ a :PatientRole; sulo:isFeatureOf ?subjectPseudoIdentifier ].\n",
    "}\n",
    "\n",
    "WHERE {\n",
    "  OPTIONAL { ?case sphn:hasAdmissionDateTime ?admissionDateTime. }\n",
    "  OPTIONAL { ?case sphn:hasOriginLocation ?originLocation. }\n",
    "\n",
    "  OPTIONAL { ?case sphn:hasDischargeDateTime ?dischargeDateTime. }\n",
    "  OPTIONAL { ?case sphn:hasLocation ?location. }\n",
    "\n",
    "  OPTIONAL { ?case sphn:hasDischargeLocation ?dischargeLocation. }\n",
    "  OPTIONAL { ?case sphn:hasSubjectPseudoIdentifier ?subjectPseudoIdentifier. }\n",
    "}\n",
    "\"\"\"\n",
    "\n",
    "# Create a new graph for transformed data\n",
    "transformed_g = g.query(transformation_query)\n",
    "sulo_graph = transformed_g.graph\n",
    "sulo_graph.bind(\"sphn\", sphn)\n",
    "sulo_graph.bind(\"sulo\", sulo)\n",
    "sulo_graph.bind(\"snomed\", snomed)\n",
    "sulo_graph.bind(\"aidava\", aidava)\n",
    "\n",
    "sulo_graph.serialize(destination=\"transformed_sulo.ttl\", format='turtle')"
   ]
  },
  {
   "cell_type": "markdown",
   "metadata": {
    "id": "JIL68U0xeW_0"
   },
   "source": [
    "## Transform the RDF in SPHN to SULO"
   ]
  },
  {
   "cell_type": "code",
   "execution_count": 4,
   "metadata": {
    "colab": {
     "base_uri": "https://localhost:8080/",
     "height": 371
    },
    "id": "mbRunFXGeW_3",
    "outputId": "38f8cad2-36d5-4e92-edeb-028d469e193a"
   },
   "outputs": [
    {
     "ename": "ParseException",
     "evalue": "Expected {SelectQuery | ConstructQuery | DescribeQuery | AskQuery}, found 'BIND'  (at char 1013), (line:26, col:3)",
     "output_type": "error",
     "traceback": [
      "\u001b[1;31m---------------------------------------------------------------------------\u001b[0m",
      "\u001b[1;31mParseException\u001b[0m                            Traceback (most recent call last)",
      "Input \u001b[1;32mIn [4]\u001b[0m, in \u001b[0;36m<cell line: 53>\u001b[1;34m()\u001b[0m\n\u001b[0;32m      4\u001b[0m transformation_query \u001b[38;5;241m=\u001b[39m \u001b[38;5;124m\"\"\"\u001b[39m\n\u001b[0;32m      5\u001b[0m \u001b[38;5;124mPREFIX sphn: <https://biomedit.ch/rdf/sphn-ontology/sphn#>\u001b[39m\n\u001b[0;32m      6\u001b[0m \u001b[38;5;124mPREFIX sulo: <https://w3id.org/sulo/>\u001b[39m\n\u001b[1;32m   (...)\u001b[0m\n\u001b[0;32m     49\u001b[0m \u001b[38;5;124m}\u001b[39m\n\u001b[0;32m     50\u001b[0m \u001b[38;5;124m\"\"\"\u001b[39m\n\u001b[0;32m     52\u001b[0m \u001b[38;5;66;03m# Create a new graph for transformed data\u001b[39;00m\n\u001b[1;32m---> 53\u001b[0m transformed_g \u001b[38;5;241m=\u001b[39m \u001b[43mg\u001b[49m\u001b[38;5;241;43m.\u001b[39;49m\u001b[43mquery\u001b[49m\u001b[43m(\u001b[49m\u001b[43mtransformation_query\u001b[49m\u001b[43m)\u001b[49m\n\u001b[0;32m     54\u001b[0m sulo_graph \u001b[38;5;241m=\u001b[39m transformed_g\u001b[38;5;241m.\u001b[39mgraph\n\u001b[0;32m     55\u001b[0m sulo_graph\u001b[38;5;241m.\u001b[39mbind(\u001b[38;5;124m\"\u001b[39m\u001b[38;5;124msphn\u001b[39m\u001b[38;5;124m\"\u001b[39m, sphn)\n",
      "File \u001b[1;32m~\\AppData\\Local\\Programs\\Python\\Python310\\lib\\site-packages\\rdflib\\graph.py:1621\u001b[0m, in \u001b[0;36mGraph.query\u001b[1;34m(self, query_object, processor, result, initNs, initBindings, use_store_provided, **kwargs)\u001b[0m\n\u001b[0;32m   1618\u001b[0m     processor \u001b[38;5;241m=\u001b[39m plugin\u001b[38;5;241m.\u001b[39mget(processor, query\u001b[38;5;241m.\u001b[39mProcessor)(\u001b[38;5;28mself\u001b[39m)\n\u001b[0;32m   1620\u001b[0m \u001b[38;5;66;03m# type error: Argument 1 to \"Result\" has incompatible type \"Mapping[str, Any]\"; expected \"str\"\u001b[39;00m\n\u001b[1;32m-> 1621\u001b[0m \u001b[38;5;28;01mreturn\u001b[39;00m result(processor\u001b[38;5;241m.\u001b[39mquery(query_object, initBindings, initNs, \u001b[38;5;241m*\u001b[39m\u001b[38;5;241m*\u001b[39mkwargs))\n",
      "File \u001b[1;32m~\\AppData\\Local\\Programs\\Python\\Python310\\lib\\site-packages\\rdflib\\plugins\\sparql\\processor.py:145\u001b[0m, in \u001b[0;36mSPARQLProcessor.query\u001b[1;34m(self, strOrQuery, initBindings, initNs, base, DEBUG)\u001b[0m\n\u001b[0;32m    125\u001b[0m \u001b[38;5;124;03m\"\"\"\u001b[39;00m\n\u001b[0;32m    126\u001b[0m \u001b[38;5;124;03mEvaluate a query with the given initial bindings, and initial\u001b[39;00m\n\u001b[0;32m    127\u001b[0m \u001b[38;5;124;03mnamespaces. The given base is used to resolve relative URIs in\u001b[39;00m\n\u001b[1;32m   (...)\u001b[0m\n\u001b[0;32m    141\u001b[0m \u001b[38;5;124;03m   documentation.\u001b[39;00m\n\u001b[0;32m    142\u001b[0m \u001b[38;5;124;03m\"\"\"\u001b[39;00m\n\u001b[0;32m    144\u001b[0m \u001b[38;5;28;01mif\u001b[39;00m \u001b[38;5;28misinstance\u001b[39m(strOrQuery, \u001b[38;5;28mstr\u001b[39m):\n\u001b[1;32m--> 145\u001b[0m     strOrQuery \u001b[38;5;241m=\u001b[39m translateQuery(\u001b[43mparseQuery\u001b[49m\u001b[43m(\u001b[49m\u001b[43mstrOrQuery\u001b[49m\u001b[43m)\u001b[49m, base, initNs)\n\u001b[0;32m    147\u001b[0m \u001b[38;5;28;01mreturn\u001b[39;00m evalQuery(\u001b[38;5;28mself\u001b[39m\u001b[38;5;241m.\u001b[39mgraph, strOrQuery, initBindings, base)\n",
      "File \u001b[1;32m~\\AppData\\Local\\Programs\\Python\\Python310\\lib\\site-packages\\rdflib\\plugins\\sparql\\parser.py:1553\u001b[0m, in \u001b[0;36mparseQuery\u001b[1;34m(q)\u001b[0m\n\u001b[0;32m   1550\u001b[0m     q \u001b[38;5;241m=\u001b[39m q\u001b[38;5;241m.\u001b[39mdecode(\u001b[38;5;124m\"\u001b[39m\u001b[38;5;124mutf-8\u001b[39m\u001b[38;5;124m\"\u001b[39m)\n\u001b[0;32m   1552\u001b[0m q \u001b[38;5;241m=\u001b[39m expandUnicodeEscapes(q)\n\u001b[1;32m-> 1553\u001b[0m \u001b[38;5;28;01mreturn\u001b[39;00m \u001b[43mQuery\u001b[49m\u001b[38;5;241;43m.\u001b[39;49m\u001b[43mparseString\u001b[49m\u001b[43m(\u001b[49m\u001b[43mq\u001b[49m\u001b[43m,\u001b[49m\u001b[43m \u001b[49m\u001b[43mparseAll\u001b[49m\u001b[38;5;241;43m=\u001b[39;49m\u001b[38;5;28;43;01mTrue\u001b[39;49;00m\u001b[43m)\u001b[49m\n",
      "File \u001b[1;32m~\\AppData\\Local\\Programs\\Python\\Python310\\lib\\site-packages\\pyparsing\\core.py:1141\u001b[0m, in \u001b[0;36mParserElement.parse_string\u001b[1;34m(self, instring, parse_all, parseAll)\u001b[0m\n\u001b[0;32m   1138\u001b[0m         \u001b[38;5;28;01mraise\u001b[39;00m\n\u001b[0;32m   1139\u001b[0m     \u001b[38;5;28;01melse\u001b[39;00m:\n\u001b[0;32m   1140\u001b[0m         \u001b[38;5;66;03m# catch and re-raise exception from here, clearing out pyparsing internal stack trace\u001b[39;00m\n\u001b[1;32m-> 1141\u001b[0m         \u001b[38;5;28;01mraise\u001b[39;00m exc\u001b[38;5;241m.\u001b[39mwith_traceback(\u001b[38;5;28;01mNone\u001b[39;00m)\n\u001b[0;32m   1142\u001b[0m \u001b[38;5;28;01melse\u001b[39;00m:\n\u001b[0;32m   1143\u001b[0m     \u001b[38;5;28;01mreturn\u001b[39;00m tokens\n",
      "\u001b[1;31mParseException\u001b[0m: Expected {SelectQuery | ConstructQuery | DescribeQuery | AskQuery}, found 'BIND'  (at char 1013), (line:26, col:3)"
     ]
    }
   ],
   "source": [
    "### TESTING\n",
    "\n",
    "# Define SPARQL transformation query\n",
    "transformation_query = \"\"\"\n",
    "PREFIX sphn: <https://biomedit.ch/rdf/sphn-ontology/sphn#>\n",
    "PREFIX sulo: <https://w3id.org/sulo/>\n",
    "PREFIX xsd: <http://www.w3.org/2001/XMLSchema#>\n",
    "PREFIX snomed: <http://snomed.info/id/>\n",
    "PREFIX : <https://rdf.aidava.eu/resource/>\n",
    "\n",
    "CONSTRUCT {\n",
    "  ?case a sphn:AdministrativeCase .\n",
    "  ?case sulo:hasPart ?admission .\n",
    "\n",
    "  # ?admission a snomed:305056002 .\n",
    "  # ?admission sulo:isLocatedIn ?originLocation .\n",
    "  # ?admission sulo:occursIn ?admission_time .\n",
    "  # ?admission_time a sulo:Time .\n",
    "  # ?admission_time sulo:hasValue ?admissionDateTime .\n",
    "\n",
    "  # ?case sulo:hasPart [ a snomed:305056002;  sulo:isLocatedIn ?originLocation ;sulo:occursIn [ a sulo:Time; sulo:hasValue ?admissionDateTime ] ].\n",
    "  # ?case sulo:hasPart [ a snomed:58000006;  sulo:isLocatedIn ?dischargeLocation ; sulo:occursIn [ a sulo:Time; sulo:hasValue ?dischargeDateTime ] ].\n",
    "  # ?case sulo:isLocatedIn ?location.\n",
    "  # ?case sulo:hasParticipant [ a :PatientRole; sulo:isFeatureOf ?subjectPseudoIdentifier ].\n",
    "}\n",
    "\n",
    "WHERE {\n",
    "  ?case a sphn:AdministrativeCase .\n",
    "  BIND( IF( BOUND(?admissionDateTime) || BOUND(?originLocation) ,\n",
    "      UUID(), # then: generate a UUID\n",
    "       \"\"     # else: return a fallback string\n",
    "    )\n",
    "    AS ?uuid\n",
    "\n",
    "   OPTIONAL {\n",
    "    FILTER(BOUND(?admissionDateTime))\n",
    "    BIND(IRI(CONCAT(STR(?case), \"admission\",STR(?admissionDateTime))) AS ?admission)\n",
    "    #BIND(IRI(CONCAT(STR(?admission), \"admission_time\")) AS ?admission_time)\n",
    "  }\n",
    "\n",
    "  OPTIONAL { ?case sphn:hasAdmissionDateTime ?admissionDateTime. }\n",
    "  OPTIONAL { ?case sphn:hasOriginLocation ?originLocation. }\n",
    "\n",
    "  # OPTIONAL { ?case sphn:hasDischargeDateTime ?dischargeDateTime. }\n",
    "  # OPTIONAL { ?case sphn:hasLocation ?location. }\n",
    "\n",
    "  # OPTIONAL { ?case sphn:hasDischargeLocation ?dischargeLocation. }\n",
    "  # OPTIONAL { ?case sphn:hasSubjectPseudoIdentifier ?subjectPseudoIdentifier. }\n",
    "}\n",
    "\"\"\"\n",
    "\n",
    "# Create a new graph for transformed data\n",
    "transformed_g = g.query(transformation_query)\n",
    "sulo_graph = transformed_g.graph\n",
    "sulo_graph.bind(\"sphn\", sphn)\n",
    "sulo_graph.bind(\"sulo\", sulo)\n",
    "sulo_graph.bind(\"snomed\", snomed)\n",
    "sulo_graph.bind(\"aidava\", aidava)\n",
    "\n",
    "sulo_graph.serialize(destination=\"transformed_sulo.ttl\", format='turtle')"
   ]
  },
  {
   "cell_type": "code",
   "execution_count": 5,
   "metadata": {
    "id": "OgFyRfgAeW_6"
   },
   "outputs": [],
   "source": [
    "# Define SPARQL query\n",
    "query_x = \"\"\"\n",
    "PREFIX sphn: <https://biomedit.ch/rdf/sphn-ontology/sphn#>\n",
    "PREFIX sulo: <https://w3id.org/sulo/>\n",
    "PREFIX snomed: <http://snomed.info/id/>\n",
    "PREFIX xsd: <http://www.w3.org/2001/XMLSchema#>\n",
    "\n",
    "SELECT ?case ?admissionDateTime\n",
    "WHERE {\n",
    "   ?case a sphn:AdministrativeCase .\n",
    "   ?case sulo:hasPart ?admission_process .\n",
    "   ?admission_process a snomed:305056002 .\n",
    "   ?admission_process sulo:occursIn ?admissionDateTime .\n",
    "}\n",
    "\"\"\""
   ]
  },
  {
   "cell_type": "code",
   "execution_count": 6,
   "metadata": {
    "colab": {
     "base_uri": "https://localhost:8080/"
    },
    "id": "3KPE3UeYeW_7",
    "outputId": "3a0e1948-d06f-4beb-853c-71836f823e96"
   },
   "outputs": [
    {
     "data": {
      "text/plain": [
       "<Graph identifier=N33f9c25de0ad47eb8748a0c4cecef3a1 (<class 'rdflib.graph.Graph'>)>"
      ]
     },
     "execution_count": 6,
     "metadata": {},
     "output_type": "execute_result"
    }
   ],
   "source": [
    "transformed_g = Graph()\n",
    "transformed_g.parse(\"transformed_sulo.ttl\", format=\"turtle\")"
   ]
  },
  {
   "cell_type": "code",
   "execution_count": 7,
   "metadata": {
    "colab": {
     "base_uri": "https://localhost:8080/"
    },
    "id": "s1sxUSGqeW_7",
    "outputId": "0f4f1dfd-f4fa-44bf-b8d3-90a9b1179ba7"
   },
   "outputs": [
    {
     "name": "stdout",
     "output_type": "stream",
     "text": [
      "Visit: (rdflib.term.URIRef('https://rdf.aidava.eu/resource/AdministrativeCase/2604'), rdflib.term.BNode('n334b77d4b96840bf873a020ef9aae1bfb4'))\n"
     ]
    }
   ],
   "source": [
    "# Run query on transformed graph\n",
    "results = transformed_g.query(query_x)\n",
    "\n",
    "# Print results\n",
    "for row in results:\n",
    "    print(f\"Visit: {row}\")"
   ]
  },
  {
   "cell_type": "code",
   "execution_count": 8,
   "metadata": {
    "colab": {
     "base_uri": "https://localhost:8080/"
    },
    "id": "BvSv0-J3eW_8",
    "outputId": "92b8a792-2957-4225-8208-1e3b0b6cfd61"
   },
   "outputs": [
    {
     "data": {
      "text/plain": [
       "<Graph identifier=N6a9790325b7145d49b003c06e609a263 (<class 'rdflib.graph.Graph'>)>"
      ]
     },
     "execution_count": 8,
     "metadata": {},
     "output_type": "execute_result"
    }
   ],
   "source": [
    "sulo2sphnv2025 = \"\"\"\n",
    "PREFIX sphn: <https://biomedit.ch/rdf/sphn-ontology/sphn#>\n",
    "PREFIX sulo: <https://w3id.org/sulo/>\n",
    "PREFIX xsd: <http://www.w3.org/2001/XMLSchema#>\n",
    "PREFIX snomed: <http://snomed.info/id/>\n",
    "PREFIX : <https://rdf.aidava.eu/resource/>\n",
    "\n",
    "CONSTRUCT {\n",
    "  ?case a sphn:AdministrativeCase .\n",
    "\n",
    "  ?case sphn:admission ?admission .\n",
    "  ?admission a sphn:Admission.\n",
    "  ?admission sphn:hasDateTime ?admissionDateTime .\n",
    "  ?admission sphn:hasOriginLocation ?originLocation .\n",
    "\n",
    "  ?case sphn:discharge ?discarge .\n",
    "  ?discarge a sphn:Discharge .\n",
    "  ?discarge sphn:hasDateTime ?dischargeDateTime .\n",
    "  ?discarge sphn:hasTargetLocation ?targetLocation .\n",
    "}\n",
    "WHERE {\n",
    "    ?case a sphn:AdministrativeCase .\n",
    "    OPTIONAL {\n",
    "      ?case sulo:hasPart ?admission .\n",
    "      ?admission a snomed:305056002 .\n",
    "      OPTIONAL {\n",
    "        ?admission sulo:occursIn ?time .\n",
    "        ?time a sulo:Time .\n",
    "        ?time sulo:hasValue ?admissionDateTime .\n",
    "      }\n",
    "      OPTIONAL {\n",
    "        ?admission sulo:isLocatedIn ?originLocation .\n",
    "      }\n",
    "    }\n",
    "    OPTIONAL {\n",
    "      ?case sulo:hasPart ?discharge .\n",
    "      ?discharge a snomed:58000006 .\n",
    "      OPTIONAL {\n",
    "        ?discharge sulo:occursIn ?time .\n",
    "        ?time a sulo:Time .\n",
    "        ?time sulo:hasValue ?dischargeDateTime .\n",
    "      }\n",
    "      OPTIONAL {\n",
    "        ?discharge sulo:isLocatedIn ?targetLocation .\n",
    "      }\n",
    "    }\n",
    "\n",
    "\n",
    "}\n",
    "\"\"\"\n",
    "\n",
    "results = transformed_g.query(sulo2sphnv2025)\n",
    "graph = results.graph\n",
    "graph.bind(\"sphn\", sphn)\n",
    "graph.bind(\"sulo\", sulo)\n",
    "graph.bind(\"snomed\", snomed)\n",
    "graph.bind(\"aidava\", aidava)\n",
    "graph.serialize(destination=\"sulo2sphnv2025.ttl\", format='turtle')\n"
   ]
  }
 ],
 "metadata": {
  "colab": {
   "provenance": []
  },
  "kernelspec": {
   "display_name": "Python 3 (ipykernel)",
   "language": "python",
   "name": "python3"
  },
  "language_info": {
   "codemirror_mode": {
    "name": "ipython",
    "version": 3
   },
   "file_extension": ".py",
   "mimetype": "text/x-python",
   "name": "python",
   "nbconvert_exporter": "python",
   "pygments_lexer": "ipython3",
   "version": "3.10.4"
  }
 },
 "nbformat": 4,
 "nbformat_minor": 1
}
